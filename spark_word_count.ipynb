{
 "cells": [
  {
   "cell_type": "code",
   "execution_count": 2,
   "metadata": {
    "collapsed": true
   },
   "outputs": [],
   "source": [
    "from pyspark import SparkContext\n",
    "sc = SparkContext()"
   ]
  },
  {
   "cell_type": "code",
   "execution_count": 4,
   "metadata": {
    "collapsed": false
   },
   "outputs": [
    {
     "name": "stdout",
     "output_type": "stream",
     "text": [
      "--2015-07-09 17:21:37--  http://www.gutenberg.org/cache/epub/100/pg100.txt\n",
      "Resolving www.gutenberg.org (www.gutenberg.org)... 152.19.134.47\n",
      "Connecting to www.gutenberg.org (www.gutenberg.org)|152.19.134.47|:80... connected.\n",
      "HTTP request sent, awaiting response... 200 OK\n",
      "Length: 5589889 (5,3M) [text/plain]\n",
      "Saving to: ‘pg100.txt’\n",
      "\n",
      "pg100.txt           100%[=====================>]   5,33M  1,12MB/s   in 7,3s   \n",
      "\n",
      "2015-07-09 17:21:47 (748 KB/s) - ‘pg100.txt’ saved [5589889/5589889]\n",
      "\n"
     ]
    }
   ],
   "source": [
    "!wget 'http://www.gutenberg.org/cache/epub/100/pg100.txt'"
   ]
  },
  {
   "cell_type": "markdown",
   "metadata": {},
   "source": [
    "Load the shakespeare data into an [RDD](https://spark.apache.org/docs/latest/api/python/pyspark.html#pyspark.RDD) by using [`textFile`](https://spark.apache.org/docs/latest/api/python/pyspark.html#pyspark.SparkContext.textFile). "
   ]
  },
  {
   "cell_type": "code",
   "execution_count": 15,
   "metadata": {
    "collapsed": false
   },
   "outputs": [
    {
     "name": "stdout",
     "output_type": "stream",
     "text": [
      "first line of raw_text:\t \"﻿The Project Gutenberg EBook of The Complete Works of William Shakespeare, by\"\n",
      "total number of lines:\t 124787\n"
     ]
    }
   ],
   "source": [
    "raw_text = sc.textFile('pg100.txt', 4)\n",
    "\n",
    "# check whether the data was loaded properly:\n",
    "print u'first line of raw_text:\\t \"{}\"'.format(raw_text.first())\n",
    "print u'total number of lines:\\t {}'.format(raw_text.count())\n"
   ]
  },
  {
   "cell_type": "code",
   "execution_count": null,
   "metadata": {
    "collapsed": true
   },
   "outputs": [],
   "source": []
  }
 ],
 "metadata": {
  "kernelspec": {
   "display_name": "Python 2",
   "language": "python",
   "name": "python2"
  },
  "language_info": {
   "codemirror_mode": {
    "name": "ipython",
    "version": 2
   },
   "file_extension": ".py",
   "mimetype": "text/x-python",
   "name": "python",
   "nbconvert_exporter": "python",
   "pygments_lexer": "ipython2",
   "version": "2.7.9"
  }
 },
 "nbformat": 4,
 "nbformat_minor": 0
}
